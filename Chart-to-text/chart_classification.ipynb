{
  "nbformat": 4,
  "nbformat_minor": 0,
  "metadata": {
    "colab": {
      "provenance": [],
      "gpuType": "T4"
    },
    "kernelspec": {
      "name": "python3",
      "display_name": "Python 3"
    },
    "language_info": {
      "name": "python"
    },
    "accelerator": "GPU"
  },
  "cells": [
    {
      "cell_type": "code",
      "source": [
        "import zipfile\n",
        "from tensorflow.keras.preprocessing.image import ImageDataGenerator\n",
        "from sklearn.model_selection import train_test_split\n",
        "import os\n",
        "import shutil\n",
        "from tensorflow.keras.applications import ResNet50\n",
        "import tensorflow as tf\n",
        "from PIL import Image\n",
        "from tensorflow.keras.models import Sequential\n",
        "from tensorflow.keras.layers import GlobalAveragePooling2D, Dense\n",
        "from tensorflow.keras.callbacks import EarlyStopping\n",
        "import matplotlib.pyplot as plt\n"
      ],
      "metadata": {
        "id": "aE6FlE5UZERJ"
      },
      "execution_count": null,
      "outputs": []
    },
    {
      "cell_type": "code",
      "source": [
        "#unzip\n",
        "#path_to_zip_file = '/content/drive/MyDrive/tensorflow-image-classification-master-2/chartimges.zip'\n",
        "#directory_to_extract_to = '/content/drive/MyDrive/tensorflow-image-classification-master-2/'\n",
        "\n",
        "\n",
        "#with zipfile.ZipFile(path_to_zip_file, 'r') as zip_ref:\n",
        "#    zip_ref.extractall(directory_to_extract_to)"
      ],
      "metadata": {
        "id": "mz4Hg0HBZVaf"
      },
      "execution_count": null,
      "outputs": []
    },
    {
      "cell_type": "code",
      "execution_count": null,
      "metadata": {
        "colab": {
          "base_uri": "https://localhost:8080/"
        },
        "id": "p5oMPOHoGEJs",
        "outputId": "9695e465-6829-4225-8ca3-1fb4f7d9961e"
      },
      "outputs": [
        {
          "output_type": "stream",
          "name": "stdout",
          "text": [
            "Found 7065 images belonging to 4 classes.\n",
            "Class indices: {'bar': 0, 'line': 1, 'pie': 2, 'table': 3}\n",
            "Class names: ['bar', 'line', 'pie', 'table']\n"
          ]
        }
      ],
      "source": [
        "#이미지 데이터 경로\n",
        "train_data_dir = '/content/drive/MyDrive/tensorflow-image-classification-master-2/chartimges/'\n",
        "\n",
        "#이미지 데이터 로더 설정\n",
        "train_datagen = ImageDataGenerator(\n",
        "      rescale = 1.0/255.0, #정규화\n",
        "      validation_split = 0.2) #검증 데이터셋 비율\n",
        "\n",
        "#훈련 데이터 로드\n",
        "train_generator = train_datagen.flow_from_directory(\n",
        "    train_data_dir,\n",
        "    target_size = (224, 224), #resnet에 맞는 크기\n",
        "    batch_size = 32,\n",
        "    class_mode = 'categorical', #다중 클래스 분류\n",
        "    subset = 'training') #훈련데이터로 사용할 데이터 선택\n",
        "\n",
        "class_indices = train_generator.class_indices\n",
        "class_names = list(class_indices.keys())\n",
        "\n",
        "print(\"Class indices:\", class_indices)\n",
        "print(\"Class names:\", class_names)\n"
      ]
    },
    {
      "cell_type": "code",
      "source": [
        "#원본 데이터셋 디렉터리 경로\n",
        "original_dataset_dir =  '/content/drive/MyDrive/tensorflow-image-classification-master-2/chartimges'\n",
        "\n",
        "#분할된 데이터셋 저장할 디렉터리 경로\n",
        "base_dir =  '/content/drive/MyDrive/tensorflow-image-classification-master-2/chartimges/split_dataset'\n",
        "\n",
        "os.makedirs(base_dir, exist_ok=True)\n",
        "\n",
        "#클래스별 디렉터리 생성\n",
        "classes = ['bar', 'line', 'pie', 'table']\n",
        "for class_name in classes:\n",
        "  class_dir = os.path.join(original_dataset_dir, class_name)\n",
        "  all_image_names = os.listdir(class_dir)\n",
        "  train_image_names, test_image_names = train_test_split(all_image_names, test_size = 0.2, random_state=42)\n",
        "\n",
        "  for image_name in train_image_names:\n",
        "    src = os.path.join(class_dir, image_name)\n",
        "    dst = os.path.join(base_dir, 'train', class_name, image_name)\n",
        "    dst_path = os.path.join(base_dir, 'train', class_name)\n",
        "    os.makedirs(dst_path, exist_ok=True)\n",
        "    shutil.copyfile(src, dst)\n",
        "\n",
        "  for image_name in test_image_names:\n",
        "    src = os.path.join(class_dir, image_name)\n",
        "    dst = os.path.join(base_dir, 'test', class_name, image_name)\n",
        "    dst_path = os.path.join(base_dir, 'test', class_name)\n",
        "    os.makedirs(dst_path, exist_ok=True)\n",
        "    shutil.copyfile(src, dst)\n"
      ],
      "metadata": {
        "id": "6DJg5FAlIu8t"
      },
      "execution_count": null,
      "outputs": []
    },
    {
      "cell_type": "code",
      "source": [
        "#이미지 데이터 경로\n",
        "train_data_dir = os.path.join(base_dir, 'train')\n",
        "\n",
        "#이미지 데이터 증강 설정\n",
        "train_datagen = ImageDataGenerator(\n",
        "      rescale = 1.0/255.0, #정규화\n",
        "      rotation_range = 20,  #이미지 회전 각도\n",
        "      width_shift_range = 0.2, #가로 방향으로 이동 범위\n",
        "      height_shift_range = 0.2, #세로 방향으로 이동 범위\n",
        "      horizontal_flip = True, #수평반전 적용\n",
        "      validation_split = 0.2) #검증 데이터셋 비율\n",
        "\n",
        "\n",
        "#훈련 데이터 로드\n",
        "train_generator = train_datagen.flow_from_directory(\n",
        "    train_data_dir,\n",
        "    target_size = (224, 224), #resnet에 맞는 크기\n",
        "    batch_size = 32,\n",
        "    class_mode = 'categorical', #다중 클래스 분류\n",
        "    subset = 'training') #훈련데이터로 사용할 데이터 선택\n",
        "\n",
        "class_indices = train_generator.class_indices\n",
        "class_names = list(class_indices.keys())\n",
        "\n",
        "print(\"Class indices:\", class_indices)\n",
        "print(\"Class names:\", class_names)\n"
      ],
      "metadata": {
        "colab": {
          "base_uri": "https://localhost:8080/"
        },
        "id": "Mu_RlXfIwm9Z",
        "outputId": "d4685070-648e-4d83-9874-0809a9bc21ac"
      },
      "execution_count": null,
      "outputs": [
        {
          "output_type": "stream",
          "name": "stdout",
          "text": [
            "Found 5652 images belonging to 4 classes.\n",
            "Class indices: {'bar': 0, 'line': 1, 'pie': 2, 'table': 3}\n",
            "Class names: ['bar', 'line', 'pie', 'table']\n"
          ]
        }
      ]
    },
    {
      "cell_type": "code",
      "source": [
        "#모델 불러오기\n",
        "base_model = ResNet50(weights='imagenet', include_top=False, input_shape=(224, 224, 3))"
      ],
      "metadata": {
        "id": "6B19ULOP6kcc",
        "colab": {
          "base_uri": "https://localhost:8080/"
        },
        "outputId": "dd84708d-2c72-4ea7-a743-52ab69a794a5"
      },
      "execution_count": null,
      "outputs": [
        {
          "output_type": "stream",
          "name": "stdout",
          "text": [
            "Downloading data from https://storage.googleapis.com/tensorflow/keras-applications/resnet/resnet50_weights_tf_dim_ordering_tf_kernels_notop.h5\n",
            "94765736/94765736 [==============================] - 5s 0us/step\n"
          ]
        }
      ]
    },
    {
      "cell_type": "code",
      "source": [
        "#모델 수정(클래스에 맞게 레이어 수정)\n",
        "model = Sequential()\n",
        "model.add(base_model)\n",
        "model.add(GlobalAveragePooling2D())\n",
        "model.add(Dense(4, activation='softmax'))  # 클래스 수에 맞는 출력 레이어 추가"
      ],
      "metadata": {
        "id": "B0YjB_b96nRf"
      },
      "execution_count": null,
      "outputs": []
    },
    {
      "cell_type": "code",
      "source": [
        "#모델 컴파일 및 훈련\n",
        "model.compile(optimizer='adam', loss='categorical_crossentropy', metrics=['accuracy'])\n",
        "val_generator = train_datagen.flow_from_directory(\n",
        "    train_data_dir,\n",
        "    target_size=(224, 224),\n",
        "    batch_size=32,\n",
        "    class_mode='categorical',\n",
        "    subset='validation'\n",
        ")\n",
        "\n",
        "# EarlyStopping 콜백 설정\n",
        "early_stopping = EarlyStopping(monitor='val_loss', patience=5, restore_best_weights=True)\n",
        "# 모델 훈련\n",
        "history = model.fit(train_generator, epochs=50, validation_data=val_generator, callbacks=[early_stopping])\n",
        "\n"
      ],
      "metadata": {
        "colab": {
          "base_uri": "https://localhost:8080/"
        },
        "id": "fblQ3Qbo6rWx",
        "outputId": "47f7e561-5129-4b61-e8f5-ed83b48db40f"
      },
      "execution_count": null,
      "outputs": [
        {
          "output_type": "stream",
          "name": "stdout",
          "text": [
            "Found 1411 images belonging to 4 classes.\n",
            "Epoch 1/50\n",
            "177/177 [==============================] - 226s 970ms/step - loss: 0.2141 - accuracy: 0.9483 - val_loss: 1.3752 - val_accuracy: 0.3437\n",
            "Epoch 2/50\n",
            "177/177 [==============================] - 160s 906ms/step - loss: 0.0826 - accuracy: 0.9756 - val_loss: 2.6736 - val_accuracy: 0.3508\n",
            "Epoch 3/50\n",
            "177/177 [==============================] - 159s 900ms/step - loss: 0.0588 - accuracy: 0.9832 - val_loss: 1.5339 - val_accuracy: 0.3494\n",
            "Epoch 4/50\n",
            "177/177 [==============================] - 157s 889ms/step - loss: 0.1238 - accuracy: 0.9690 - val_loss: 4.8374 - val_accuracy: 0.4054\n",
            "Epoch 5/50\n",
            "177/177 [==============================] - 158s 891ms/step - loss: 0.0544 - accuracy: 0.9848 - val_loss: 2.8832 - val_accuracy: 0.4585\n",
            "Epoch 6/50\n",
            "177/177 [==============================] - 169s 953ms/step - loss: 0.0510 - accuracy: 0.9837 - val_loss: 1.7515 - val_accuracy: 0.6464\n"
          ]
        }
      ]
    },
    {
      "cell_type": "code",
      "source": [
        "#모델 평가\n",
        "test_datagen = ImageDataGenerator(rescale=1.0/255.0)  # 이미지 값을 정규화\n",
        "#이미지 데이터 경로\n",
        "test_data_dir = os.path.join(base_dir, 'test')\n",
        "\n",
        "test_generator = test_datagen.flow_from_directory(\n",
        "    test_data_dir,\n",
        "    target_size=(224, 224),\n",
        "    batch_size=32,\n",
        "    class_mode='categorical',\n",
        "    shuffle=False  # 테스트 데이터는 순서를 유지하기 위해 shuffle 비활성화\n",
        ")\n",
        "\n",
        "eval_result = model.evaluate(test_generator)\n",
        "print(\"Test loss:\", eval_result[0])\n",
        "print(\"Test accuracy:\", eval_result[1])"
      ],
      "metadata": {
        "id": "O7KFUFgx8kxN",
        "colab": {
          "base_uri": "https://localhost:8080/"
        },
        "outputId": "91d980c7-ad5d-4308-e600-ac5acaf9498d"
      },
      "execution_count": null,
      "outputs": [
        {
          "output_type": "stream",
          "name": "stdout",
          "text": [
            "Found 1765 images belonging to 4 classes.\n",
            "56/56 [==============================] - 15s 266ms/step - loss: 1.3727 - accuracy: 0.3433\n",
            "Test loss: 1.3726674318313599\n",
            "Test accuracy: 0.34334278106689453\n"
          ]
        }
      ]
    },
    {
      "cell_type": "code",
      "source": [
        "model.save('image_classify.h5')"
      ],
      "metadata": {
        "id": "s01wekYKxIKl"
      },
      "execution_count": null,
      "outputs": []
    },
    {
      "cell_type": "code",
      "source": [
        "def model_test(file_path):\n",
        "  # 모델 로드\n",
        "  model = tf.keras.models.load_model('/content/image_classify.h5')\n",
        "\n",
        "  # 이미지 불러오기\n",
        "  image_path = file_path\n",
        "  image = Image.open(image_path)\n",
        "  image = image.resize((224, 224))  # 모델의 입력 크기에 맞게 조정\n",
        "  image_array = tf.keras.preprocessing.image.img_to_array(image)\n",
        "  image_array = tf.expand_dims(image_array, axis=0)  # 배치 차원 추가\n",
        "  image_array = image_array[:, :, :, :3]  # 채널 수 조정\n",
        "\n",
        "\n",
        "  # 이미지 전처리 (예: 정규화)\n",
        "  image_array = tf.keras.applications.mobilenet_v2.preprocess_input(image_array)\n",
        "\n",
        "  # 모델 예측\n",
        "  predictions = model.predict(image_array)\n",
        "  predicted_class = tf.argmax(predictions, axis=1)[0]\n",
        "  class_labels = ['bar', 'line', 'pie', 'table']  # 클래스 레이블 리스트\n",
        "\n",
        "  print(\"Predicted class:\", class_labels[predicted_class])\n",
        "  print(\"Class probabilities:\", predictions)\n",
        "  return"
      ],
      "metadata": {
        "id": "sAzpuUwWvd4h"
      },
      "execution_count": null,
      "outputs": []
    },
    {
      "cell_type": "code",
      "source": [
        "#훈련 과정 시각화(정확도)\n",
        "plt.plot(history.history['accuracy'])\n",
        "plt.plot(history.history['val_accuracy'])\n",
        "plt.title('Model accuracy')\n",
        "plt.xlabel('Epoch')\n",
        "plt.ylabel('Accuracy')\n",
        "plt.legend(['Train', 'Test'], loc='upper left')\n",
        "plt.show()\n",
        "\n",
        "#훈련 과정 시각화(손실)\n",
        "plt.plot(history.history['loss'])\n",
        "plt.plot(history.history['val_loss'])\n",
        "plt.title('Model loss')\n",
        "plt.xlabel('Epoch')\n",
        "plt.ylabel('Loss')\n",
        "plt.legend(['Train', 'Test'], loc='upper left')\n",
        "plt.show()"
      ],
      "metadata": {
        "colab": {
          "base_uri": "https://localhost:8080/",
          "height": 927
        },
        "id": "yvR0rzGYluEy",
        "outputId": "4e5ec203-1700-43be-d3c2-a5eef3887eb8"
      },
      "execution_count": null,
      "outputs": [
        {
          "output_type": "display_data",
          "data": {
            "text/plain": [
              "<Figure size 640x480 with 1 Axes>"
            ],
            "image/png": "[encoded data removed]"
          },
          "metadata": {}
        },
        {
          "output_type": "display_data",
          "data": {
            "text/plain": [
              "<Figure size 640x480 with 1 Axes>"
            ],
            "image/png": "[encoded data removed]"
          },
          "metadata": {}
        }
      ]
    },
    {
      "cell_type": "code",
      "source": [
        "#유형별 이미지 테스트\n",
        "\n",
        "#클래스별 디렉터리 생성\n",
        "classes = ['bar', 'line', 'pie', 'table']\n",
        "for class_name in classes:\n",
        "  class_dir = os.path.join(base_dir, 'test',class_name)\n",
        "  all_image_names = os.listdir(class_dir)\n",
        "  test_images = all_image_names[:10]\n",
        "  for image_file in test_images:\n",
        "    file_path = os.path.join(class_dir, image_file)\n",
        "    model_test(file_path)\n",
        "    print(class_name)"
      ],
      "metadata": {
        "colab": {
          "base_uri": "https://localhost:8080/"
        },
        "id": "qnBxWVUife8l",
        "outputId": "c7396f67-8585-42ae-f52c-4dc966eb9295"
      },
      "execution_count": null,
      "outputs": [
        {
          "output_type": "stream",
          "name": "stdout",
          "text": [
            "1/1 [==============================] - 1s 1s/step\n",
            "Predicted class: line\n",
            "Class probabilities: [[0.29566333 0.30119333 0.20702752 0.19611584]]\n",
            "bar\n",
            "1/1 [==============================] - 1s 841ms/step\n",
            "Predicted class: line\n",
            "Class probabilities: [[0.29213655 0.29573703 0.2111722  0.20095427]]\n",
            "bar\n",
            "1/1 [==============================] - 1s 1s/step\n",
            "Predicted class: bar\n",
            "Class probabilities: [[0.29500523 0.28957656 0.21567136 0.19974683]]\n",
            "bar\n",
            "1/1 [==============================] - 1s 859ms/step\n",
            "Predicted class: bar\n",
            "Class probabilities: [[0.30760473 0.3060202  0.2025916  0.18378349]]\n",
            "bar\n"
          ]
        },
        {
          "output_type": "stream",
          "name": "stderr",
          "text": [
            "WARNING:tensorflow:5 out of the last 5 calls to <function Model.make_predict_function.<locals>.predict_function at 0x7fbcd4ec76d0> triggered tf.function retracing. Tracing is expensive and the excessive number of tracings could be due to (1) creating @tf.function repeatedly in a loop, (2) passing tensors with different shapes, (3) passing Python objects instead of tensors. For (1), please define your @tf.function outside of the loop. For (2), @tf.function has reduce_retracing=True option that can avoid unnecessary retracing. For (3), please refer to https://www.tensorflow.org/guide/function#controlling_retracing and https://www.tensorflow.org/api_docs/python/tf/function for  more details.\n"
          ]
        },
        {
          "output_type": "stream",
          "name": "stdout",
          "text": [
            "1/1 [==============================] - 1s 867ms/step\n",
            "Predicted class: bar\n",
            "Class probabilities: [[0.29627496 0.29454908 0.21190535 0.19727059]]\n",
            "bar\n"
          ]
        },
        {
          "output_type": "stream",
          "name": "stderr",
          "text": [
            "WARNING:tensorflow:6 out of the last 6 calls to <function Model.make_predict_function.<locals>.predict_function at 0x7fbc702d35b0> triggered tf.function retracing. Tracing is expensive and the excessive number of tracings could be due to (1) creating @tf.function repeatedly in a loop, (2) passing tensors with different shapes, (3) passing Python objects instead of tensors. For (1), please define your @tf.function outside of the loop. For (2), @tf.function has reduce_retracing=True option that can avoid unnecessary retracing. For (3), please refer to https://www.tensorflow.org/guide/function#controlling_retracing and https://www.tensorflow.org/api_docs/python/tf/function for  more details.\n"
          ]
        },
        {
          "output_type": "stream",
          "name": "stdout",
          "text": [
            "1/1 [==============================] - 1s 905ms/step\n",
            "Predicted class: bar\n",
            "Class probabilities: [[0.30019566 0.2982959  0.20896746 0.19254097]]\n",
            "bar\n",
            "1/1 [==============================] - 1s 907ms/step\n",
            "Predicted class: bar\n",
            "Class probabilities: [[0.29227674 0.28343576 0.22065142 0.20363608]]\n",
            "bar\n",
            "1/1 [==============================] - 1s 878ms/step\n",
            "Predicted class: bar\n",
            "Class probabilities: [[0.30633357 0.30460212 0.20409304 0.1849713 ]]\n",
            "bar\n",
            "1/1 [==============================] - 1s 880ms/step\n",
            "Predicted class: bar\n",
            "Class probabilities: [[0.29548696 0.29500282 0.21161439 0.19789582]]\n",
            "bar\n",
            "1/1 [==============================] - 1s 1s/step\n",
            "Predicted class: bar\n",
            "Class probabilities: [[0.29705653 0.29170576 0.21398783 0.19724987]]\n",
            "bar\n",
            "1/1 [==============================] - 1s 890ms/step\n",
            "Predicted class: bar\n",
            "Class probabilities: [[0.2848116  0.2775995  0.22512358 0.2124653 ]]\n",
            "line\n",
            "1/1 [==============================] - 1s 864ms/step\n",
            "Predicted class: bar\n",
            "Class probabilities: [[0.29054403 0.28143364 0.22223835 0.20578396]]\n",
            "line\n",
            "1/1 [==============================] - 1s 1s/step\n",
            "Predicted class: bar\n",
            "Class probabilities: [[0.2948271  0.2829459  0.22081712 0.20140988]]\n",
            "line\n",
            "1/1 [==============================] - 1s 1s/step\n",
            "Predicted class: bar\n",
            "Class probabilities: [[0.29252952 0.2818161  0.22188322 0.20377113]]\n",
            "line\n",
            "1/1 [==============================] - 1s 897ms/step\n",
            "Predicted class: bar\n",
            "Class probabilities: [[0.29341605 0.28188813 0.22173421 0.20296162]]\n",
            "line\n",
            "1/1 [==============================] - 1s 1s/step\n",
            "Predicted class: bar\n",
            "Class probabilities: [[0.28693226 0.2796772  0.22351626 0.20987427]]\n",
            "line\n",
            "1/1 [==============================] - 1s 891ms/step\n",
            "Predicted class: line\n",
            "Class probabilities: [[0.28110665 0.2835627  0.2205115  0.2148192 ]]\n",
            "line\n",
            "1/1 [==============================] - 1s 1s/step\n",
            "Predicted class: bar\n",
            "Class probabilities: [[0.2945367  0.2820116  0.22155105 0.20190068]]\n",
            "line\n",
            "1/1 [==============================] - 1s 1s/step\n",
            "Predicted class: bar\n",
            "Class probabilities: [[0.29174718 0.28223538 0.22148512 0.20453227]]\n",
            "line\n",
            "1/1 [==============================] - 1s 1s/step\n",
            "Predicted class: bar\n",
            "Class probabilities: [[0.30213034 0.28996286 0.21476875 0.19313802]]\n",
            "line\n",
            "1/1 [==============================] - 1s 846ms/step\n",
            "Predicted class: bar\n",
            "Class probabilities: [[0.30418363 0.29457286 0.21099918 0.19024429]]\n",
            "pie\n",
            "1/1 [==============================] - 1s 1s/step\n",
            "Predicted class: bar\n",
            "Class probabilities: [[0.3056009  0.29808745 0.20809071 0.1882209 ]]\n",
            "pie\n",
            "1/1 [==============================] - 1s 897ms/step\n",
            "Predicted class: bar\n",
            "Class probabilities: [[0.30520487 0.2996982  0.20723507 0.18786189]]\n",
            "pie\n",
            "1/1 [==============================] - 1s 904ms/step\n",
            "Predicted class: bar\n",
            "Class probabilities: [[0.2993854  0.28941664 0.21543661 0.19576138]]\n",
            "pie\n",
            "1/1 [==============================] - 1s 884ms/step\n",
            "Predicted class: bar\n",
            "Class probabilities: [[0.304396   0.29481092 0.210627   0.19016601]]\n",
            "pie\n",
            "1/1 [==============================] - 1s 909ms/step\n",
            "Predicted class: bar\n",
            "Class probabilities: [[0.29782894 0.28758997 0.21684912 0.19773202]]\n",
            "pie\n",
            "1/1 [==============================] - 1s 895ms/step\n",
            "Predicted class: bar\n",
            "Class probabilities: [[0.30782962 0.3028871  0.20459881 0.18468453]]\n",
            "pie\n",
            "1/1 [==============================] - 1s 863ms/step\n",
            "Predicted class: bar\n",
            "Class probabilities: [[0.31023946 0.29912382 0.20682028 0.18381642]]\n",
            "pie\n",
            "1/1 [==============================] - 2s 2s/step\n",
            "Predicted class: bar\n",
            "Class probabilities: [[0.29849792 0.2873486  0.21709059 0.19706286]]\n",
            "pie\n",
            "1/1 [==============================] - 1s 914ms/step\n",
            "Predicted class: bar\n",
            "Class probabilities: [[0.3238095  0.31376737 0.1937647  0.16865839]]\n",
            "pie\n",
            "1/1 [==============================] - 1s 1s/step\n",
            "Predicted class: bar\n",
            "Class probabilities: [[0.29214534 0.2792667  0.22384591 0.20474204]]\n",
            "table\n",
            "1/1 [==============================] - 1s 1s/step\n",
            "Predicted class: bar\n",
            "Class probabilities: [[0.2904296  0.27774218 0.22503252 0.20679568]]\n",
            "table\n",
            "1/1 [==============================] - 1s 1s/step\n",
            "Predicted class: bar\n",
            "Class probabilities: [[0.2899813  0.2774409  0.22526671 0.20731108]]\n",
            "table\n",
            "1/1 [==============================] - 1s 922ms/step\n",
            "Predicted class: bar\n",
            "Class probabilities: [[0.29067758 0.27779114 0.22498721 0.20654415]]\n",
            "table\n",
            "1/1 [==============================] - 2s 2s/step\n",
            "Predicted class: bar\n",
            "Class probabilities: [[0.29291156 0.27972752 0.22348905 0.20387186]]\n",
            "table\n",
            "1/1 [==============================] - 1s 862ms/step\n",
            "Predicted class: bar\n",
            "Class probabilities: [[0.28870043 0.2764033  0.22607467 0.20882162]]\n",
            "table\n",
            "1/1 [==============================] - 1s 897ms/step\n",
            "Predicted class: bar\n",
            "Class probabilities: [[0.2948191  0.2804782  0.22282608 0.20187661]]\n",
            "table\n",
            "1/1 [==============================] - 2s 2s/step\n",
            "Predicted class: bar\n",
            "Class probabilities: [[0.2892817  0.27701312 0.225602   0.20810317]]\n",
            "table\n",
            "1/1 [==============================] - 1s 898ms/step\n",
            "Predicted class: bar\n",
            "Class probabilities: [[0.2906335  0.2779632  0.22486407 0.20653929]]\n",
            "table\n",
            "1/1 [==============================] - 1s 835ms/step\n",
            "Predicted class: bar\n",
            "Class probabilities: [[0.28971207 0.27745065 0.22527322 0.2075641 ]]\n",
            "table\n"
          ]
        }
      ]
    },
    {
      "cell_type": "code",
      "source": [
        "import shutil\n",
        "from google.colab import files\n",
        "\n",
        "shutil.make_archive('split_dataset', 'zip', '/content/drive/MyDrive/tensorflow-image-classification-master-2/chartimges/split_dataset')\n",
        "files.download('<압축_파일_이름>.zip')"
      ],
      "metadata": {
        "colab": {
          "base_uri": "https://localhost:8080/",
          "height": 357
        },
        "id": "IzFx0aBmnNy2",
        "outputId": "17736395-aefd-40de-fdaa-23b45bd5da3c"
      },
      "execution_count": null,
      "outputs": [
        {
          "output_type": "error",
          "ename": "FileNotFoundError",
          "evalue": "ignored",
          "traceback": [
            "\u001b[0;31m---------------------------------------------------------------------------\u001b[0m",
            "\u001b[0;31mFileNotFoundError\u001b[0m                         Traceback (most recent call last)",
            "\u001b[0;32m<ipython-input-14-643cbc13646a>\u001b[0m in \u001b[0;36m<cell line: 5>\u001b[0;34m()\u001b[0m\n\u001b[1;32m      3\u001b[0m \u001b[0;34m\u001b[0m\u001b[0m\n\u001b[1;32m      4\u001b[0m \u001b[0mshutil\u001b[0m\u001b[0;34m.\u001b[0m\u001b[0mmake_archive\u001b[0m\u001b[0;34m(\u001b[0m\u001b[0;34m'split_dataset'\u001b[0m\u001b[0;34m,\u001b[0m \u001b[0;34m'zip'\u001b[0m\u001b[0;34m,\u001b[0m \u001b[0;34m'/content/drive/MyDrive/tensorflow-image-classification-master-2/chartimges/split_dataset'\u001b[0m\u001b[0;34m)\u001b[0m\u001b[0;34m\u001b[0m\u001b[0;34m\u001b[0m\u001b[0m\n\u001b[0;32m----> 5\u001b[0;31m \u001b[0mfiles\u001b[0m\u001b[0;34m.\u001b[0m\u001b[0mdownload\u001b[0m\u001b[0;34m(\u001b[0m\u001b[0;34m'<압축_파일_이름>.zip'\u001b[0m\u001b[0;34m)\u001b[0m\u001b[0;34m\u001b[0m\u001b[0;34m\u001b[0m\u001b[0m\n\u001b[0m",
            "\u001b[0;32m/usr/local/lib/python3.10/dist-packages/google/colab/files.py\u001b[0m in \u001b[0;36mdownload\u001b[0;34m(filename)\u001b[0m\n\u001b[1;32m    223\u001b[0m   \u001b[0;32mif\u001b[0m \u001b[0;32mnot\u001b[0m \u001b[0m_os\u001b[0m\u001b[0;34m.\u001b[0m\u001b[0mpath\u001b[0m\u001b[0;34m.\u001b[0m\u001b[0mexists\u001b[0m\u001b[0;34m(\u001b[0m\u001b[0mfilename\u001b[0m\u001b[0;34m)\u001b[0m\u001b[0;34m:\u001b[0m\u001b[0;34m\u001b[0m\u001b[0;34m\u001b[0m\u001b[0m\n\u001b[1;32m    224\u001b[0m     \u001b[0mmsg\u001b[0m \u001b[0;34m=\u001b[0m \u001b[0;34m'Cannot find file: {}'\u001b[0m\u001b[0;34m.\u001b[0m\u001b[0mformat\u001b[0m\u001b[0;34m(\u001b[0m\u001b[0mfilename\u001b[0m\u001b[0;34m)\u001b[0m\u001b[0;34m\u001b[0m\u001b[0;34m\u001b[0m\u001b[0m\n\u001b[0;32m--> 225\u001b[0;31m     \u001b[0;32mraise\u001b[0m \u001b[0mFileNotFoundError\u001b[0m\u001b[0;34m(\u001b[0m\u001b[0mmsg\u001b[0m\u001b[0;34m)\u001b[0m  \u001b[0;31m# pylint: disable=undefined-variable\u001b[0m\u001b[0;34m\u001b[0m\u001b[0;34m\u001b[0m\u001b[0m\n\u001b[0m\u001b[1;32m    226\u001b[0m \u001b[0;34m\u001b[0m\u001b[0m\n\u001b[1;32m    227\u001b[0m   \u001b[0mcomm_manager\u001b[0m \u001b[0;34m=\u001b[0m \u001b[0m_IPython\u001b[0m\u001b[0;34m.\u001b[0m\u001b[0mget_ipython\u001b[0m\u001b[0;34m(\u001b[0m\u001b[0;34m)\u001b[0m\u001b[0;34m.\u001b[0m\u001b[0mkernel\u001b[0m\u001b[0;34m.\u001b[0m\u001b[0mcomm_manager\u001b[0m\u001b[0;34m\u001b[0m\u001b[0;34m\u001b[0m\u001b[0m\n",
            "\u001b[0;31mFileNotFoundError\u001b[0m: Cannot find file: <압축_파일_이름>.zip"
          ]
        }
      ]
    },
    {
      "cell_type": "code",
      "source": [
        "#유형별 이미지 수 확인\n",
        "#원본 데이터셋 디렉터리 경로\n",
        "original_dataset_dir =  '/content/drive/MyDrive/tensorflow-image-classification-master-2/chartimges'\n",
        "\n",
        "#분할된 데이터셋 저장할 디렉터리 경로\n",
        "base_dir =  '/content/drive/MyDrive/tensorflow-image-classification-master-2/chartimges/split_dataset'\n",
        "\n",
        "#클래스별 디렉터리 생성\n",
        "classes = ['bar', 'line', 'pie', 'table']\n",
        "for class_name in classes:\n",
        "  class_dir1 = os.path.join(base_dir, 'train',class_name)\n",
        "  all_image_names1 = os.listdir(class_dir1)\n",
        "  print(f'{class_name}:{len(all_image_names1)}')\n",
        "\n",
        "  class_dir2 = os.path.join(base_dir, 'test',class_name)\n",
        "  all_image_names2 = os.listdir(class_dir2)\n",
        "  print(f'{class_name}:{len(all_image_names2)}')\n"
      ],
      "metadata": {
        "colab": {
          "base_uri": "https://localhost:8080/"
        },
        "id": "oAgN6oA9hlE1",
        "outputId": "81231c25-b57a-4275-b4e8-0897bbff7545"
      },
      "execution_count": null,
      "outputs": [
        {
          "output_type": "stream",
          "name": "stdout",
          "text": [
            "bar:2478\n",
            "bar:620\n",
            "line:1543\n",
            "line:386\n",
            "pie:1108\n",
            "pie:277\n",
            "table:1936\n",
            "table:484\n"
          ]
        }
      ]
    }
  ]
}